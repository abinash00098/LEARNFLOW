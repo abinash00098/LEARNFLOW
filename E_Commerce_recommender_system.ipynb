{
  "nbformat": 4,
  "nbformat_minor": 0,
  "metadata": {
    "colab": {
      "provenance": [],
      "authorship_tag": "ABX9TyPiqCCYaWujhwwAq95u4U8w",
      "include_colab_link": true
    },
    "kernelspec": {
      "name": "python3",
      "display_name": "Python 3"
    },
    "language_info": {
      "name": "python"
    }
  },
  "cells": [
    {
      "cell_type": "markdown",
      "metadata": {
        "id": "view-in-github",
        "colab_type": "text"
      },
      "source": [
        "<a href=\"https://colab.research.google.com/github/abinash00098/LEARNFLOW/blob/main/E_Commerce_recommender_system.ipynb\" target=\"_parent\"><img src=\"https://colab.research.google.com/assets/colab-badge.svg\" alt=\"Open In Colab\"/></a>"
      ]
    },
    {
      "cell_type": "code",
      "source": [
        "import pandas as pd\n",
        "import numpy as np\n",
        "import matplotlib.pyplot as plt\n",
        "import seaborn as sns\n",
        "from sklearn.metrics.pairwise import cosine_similarity\n",
        "from sklearn.model_selection import train_test_split\n",
        "from sklearn.metrics import precision_score, recall_score\n"
      ],
      "metadata": {
        "id": "dZdHx2l8Y9iB"
      },
      "execution_count": 2,
      "outputs": []
    },
    {
      "cell_type": "code",
      "source": [
        "data = pd.read_csv('1429_1.csv')  # Adjust the file name if needed\n",
        "\n",
        "# Display the first few rows and data info\n",
        "print(data.head())\n",
        "print(data.info())\n"
      ],
      "metadata": {
        "colab": {
          "base_uri": "https://localhost:8080/"
        },
        "id": "HRA7ZRLIZ8gM",
        "outputId": "3006ae6f-a7a9-41a4-9651-890c9547bc2b"
      },
      "execution_count": 8,
      "outputs": [
        {
          "output_type": "stream",
          "name": "stdout",
          "text": [
            "                     id                                               name  \\\n",
            "0  AVqkIhwDv8e3D1O-lebb  All-New Fire HD 8 Tablet, 8 HD Display, Wi-Fi,...   \n",
            "1  AVqkIhwDv8e3D1O-lebb  All-New Fire HD 8 Tablet, 8 HD Display, Wi-Fi,...   \n",
            "2  AVqkIhwDv8e3D1O-lebb  All-New Fire HD 8 Tablet, 8 HD Display, Wi-Fi,...   \n",
            "3  AVqkIhwDv8e3D1O-lebb  All-New Fire HD 8 Tablet, 8 HD Display, Wi-Fi,...   \n",
            "4  AVqkIhwDv8e3D1O-lebb  All-New Fire HD 8 Tablet, 8 HD Display, Wi-Fi,...   \n",
            "\n",
            "        asins   brand                                         categories  \\\n",
            "0  B01AHB9CN2  Amazon  Electronics,iPad & Tablets,All Tablets,Fire Ta...   \n",
            "1  B01AHB9CN2  Amazon  Electronics,iPad & Tablets,All Tablets,Fire Ta...   \n",
            "2  B01AHB9CN2  Amazon  Electronics,iPad & Tablets,All Tablets,Fire Ta...   \n",
            "3  B01AHB9CN2  Amazon  Electronics,iPad & Tablets,All Tablets,Fire Ta...   \n",
            "4  B01AHB9CN2  Amazon  Electronics,iPad & Tablets,All Tablets,Fire Ta...   \n",
            "\n",
            "                                                keys manufacturer  \\\n",
            "0  841667104676,amazon/53004484,amazon/b01ahb9cn2...       Amazon   \n",
            "1  841667104676,amazon/53004484,amazon/b01ahb9cn2...       Amazon   \n",
            "2  841667104676,amazon/53004484,amazon/b01ahb9cn2...       Amazon   \n",
            "3  841667104676,amazon/53004484,amazon/b01ahb9cn2...       Amazon   \n",
            "4  841667104676,amazon/53004484,amazon/b01ahb9cn2...       Amazon   \n",
            "\n",
            "               reviews.date     reviews.dateAdded  \\\n",
            "0  2017-01-13T00:00:00.000Z  2017-07-03T23:33:15Z   \n",
            "1  2017-01-13T00:00:00.000Z  2017-07-03T23:33:15Z   \n",
            "2  2017-01-13T00:00:00.000Z  2017-07-03T23:33:15Z   \n",
            "3  2017-01-13T00:00:00.000Z  2017-07-03T23:33:15Z   \n",
            "4  2017-01-12T00:00:00.000Z  2017-07-03T23:33:15Z   \n",
            "\n",
            "                                    reviews.dateSeen  ... reviews.doRecommend  \\\n",
            "0  2017-06-07T09:04:00.000Z,2017-04-30T00:45:00.000Z  ...                True   \n",
            "1  2017-06-07T09:04:00.000Z,2017-04-30T00:45:00.000Z  ...                True   \n",
            "2  2017-06-07T09:04:00.000Z,2017-04-30T00:45:00.000Z  ...                True   \n",
            "3  2017-06-07T09:04:00.000Z,2017-04-30T00:45:00.000Z  ...                True   \n",
            "4  2017-06-07T09:04:00.000Z,2017-04-30T00:45:00.000Z  ...                True   \n",
            "\n",
            "  reviews.id  reviews.numHelpful  reviews.rating  \\\n",
            "0        NaN                 0.0             5.0   \n",
            "1        NaN                 0.0             5.0   \n",
            "2        NaN                 0.0             5.0   \n",
            "3        NaN                 0.0             4.0   \n",
            "4        NaN                 0.0             5.0   \n",
            "\n",
            "                                  reviews.sourceURLs  \\\n",
            "0  http://reviews.bestbuy.com/3545/5620406/review...   \n",
            "1  http://reviews.bestbuy.com/3545/5620406/review...   \n",
            "2  http://reviews.bestbuy.com/3545/5620406/review...   \n",
            "3  http://reviews.bestbuy.com/3545/5620406/review...   \n",
            "4  http://reviews.bestbuy.com/3545/5620406/review...   \n",
            "\n",
            "                                        reviews.text  \\\n",
            "0  This product so far has not disappointed. My c...   \n",
            "1  great for beginner or experienced person. Boug...   \n",
            "2  Inexpensive tablet for him to use and learn on...   \n",
            "3  I've had my Fire HD 8 two weeks now and I love...   \n",
            "4  I bought this for my grand daughter when she c...   \n",
            "\n",
            "                             reviews.title reviews.userCity  \\\n",
            "0                                   Kindle              NaN   \n",
            "1                                very fast              NaN   \n",
            "2  Beginner tablet for our 9 year old son.              NaN   \n",
            "3                                  Good!!!              NaN   \n",
            "4                Fantastic Tablet for kids              NaN   \n",
            "\n",
            "   reviews.userProvince  reviews.username  \n",
            "0                   NaN           Adapter  \n",
            "1                   NaN            truman  \n",
            "2                   NaN             DaveZ  \n",
            "3                   NaN            Shacks  \n",
            "4                   NaN         explore42  \n",
            "\n",
            "[5 rows x 21 columns]\n",
            "<class 'pandas.core.frame.DataFrame'>\n",
            "RangeIndex: 34660 entries, 0 to 34659\n",
            "Data columns (total 21 columns):\n",
            " #   Column                Non-Null Count  Dtype  \n",
            "---  ------                --------------  -----  \n",
            " 0   id                    34660 non-null  object \n",
            " 1   name                  27900 non-null  object \n",
            " 2   asins                 34658 non-null  object \n",
            " 3   brand                 34660 non-null  object \n",
            " 4   categories            34660 non-null  object \n",
            " 5   keys                  34660 non-null  object \n",
            " 6   manufacturer          34660 non-null  object \n",
            " 7   reviews.date          34621 non-null  object \n",
            " 8   reviews.dateAdded     24039 non-null  object \n",
            " 9   reviews.dateSeen      34660 non-null  object \n",
            " 10  reviews.didPurchase   1 non-null      object \n",
            " 11  reviews.doRecommend   34066 non-null  object \n",
            " 12  reviews.id            1 non-null      float64\n",
            " 13  reviews.numHelpful    34131 non-null  float64\n",
            " 14  reviews.rating        34627 non-null  float64\n",
            " 15  reviews.sourceURLs    34660 non-null  object \n",
            " 16  reviews.text          34659 non-null  object \n",
            " 17  reviews.title         34654 non-null  object \n",
            " 18  reviews.userCity      0 non-null      float64\n",
            " 19  reviews.userProvince  0 non-null      float64\n",
            " 20  reviews.username      34653 non-null  object \n",
            "dtypes: float64(5), object(16)\n",
            "memory usage: 5.6+ MB\n",
            "None\n"
          ]
        },
        {
          "output_type": "stream",
          "name": "stderr",
          "text": [
            "<ipython-input-8-55ef278def33>:1: DtypeWarning: Columns (1,10) have mixed types. Specify dtype option on import or set low_memory=False.\n",
            "  data = pd.read_csv('1429_1.csv')  # Adjust the file name if needed\n"
          ]
        }
      ]
    },
    {
      "cell_type": "code",
      "source": [
        "class ElectronicsRecommender:\n",
        "    def __init__(self, data):\n",
        "        self.data = data\n",
        "        self.user_item_matrix = None\n",
        "        self.user_similarity_matrix = None\n",
        "\n",
        "    def preprocess_data(self):\n",
        "        # Create user-item matrix\n",
        "        self.user_item_matrix = self.data.pivot_table(\n",
        "            index='reviews.username',\n",
        "            columns='name',\n",
        "            values='reviews.rating',\n",
        "            fill_value=0\n",
        "        )\n",
        "\n",
        "    def compute_user_similarity(self):\n",
        "        # Compute cosine similarity between users\n",
        "        self.user_similarity_matrix = cosine_similarity(self.user_item_matrix)\n",
        "\n",
        "    def get_similar_users(self, user, n=5):\n",
        "        # Get top N similar users\n",
        "        user_index = self.user_item_matrix.index.get_loc(user)\n",
        "        similar_users = self.user_similarity_matrix[user_index].argsort()[::-1][1:n+1]\n",
        "        return self.user_item_matrix.index[similar_users]\n",
        "\n",
        "    def recommend_products(self, user, n=5):\n",
        "        similar_users = self.get_similar_users(user)\n",
        "        user_products = set(self.user_item_matrix.loc[user].index[self.user_item_matrix.loc[user] > 0])\n",
        "\n",
        "        recommendations = []\n",
        "        for similar_user in similar_users:\n",
        "            similar_user_products = set(self.user_item_matrix.loc[similar_user].index[self.user_item_matrix.loc[similar_user] > 0])\n",
        "            new_products = similar_user_products - user_products\n",
        "            recommendations.extend(list(new_products))\n",
        "\n",
        "        # Get top N unique recommendations\n",
        "        return list(dict.fromkeys(recommendations))[:n]\n",
        "\n",
        "    def evaluate(self, test_data, k=5):\n",
        "        precisions = []\n",
        "        recalls = []\n",
        "        for user in test_data['reviews.username'].unique():\n",
        "            if user in self.user_item_matrix.index:\n",
        "                actual_items = set(test_data[test_data['reviews.username'] == user]['name'])\n",
        "                recommended_items = set(self.recommend_products(user, n=k))\n",
        "\n",
        "                tp = len(actual_items.intersection(recommended_items))\n",
        "                precision = tp / len(recommended_items) if recommended_items else 0\n",
        "                recall = tp / len(actual_items) if actual_items else 0\n",
        "\n",
        "                precisions.append(precision)\n",
        "                recalls.append(recall)\n",
        "\n",
        "        return np.mean(precisions), np.mean(recalls)"
      ],
      "metadata": {
        "id": "QHOIxe6NaIps"
      },
      "execution_count": 18,
      "outputs": []
    },
    {
      "cell_type": "code",
      "source": [
        "data = pd.read_csv('1429_1.csv')\n",
        "\n",
        "# Basic data analysis and visualization\n",
        "plt.figure(figsize=(12, 6))\n",
        "sns.histplot(data['reviews.rating'], bins=5, kde=True)\n",
        "plt.title('Distribution of Ratings')\n",
        "plt.xlabel('Rating')\n",
        "plt.ylabel('Count')\n",
        "plt.savefig('rating_distribution.png')\n",
        "plt.close()\n",
        "\n",
        "plt.figure(figsize=(12, 6))\n",
        "top_products = data['name'].value_counts().head(10)\n",
        "sns.barplot(x=top_products.values, y=top_products.index)\n",
        "plt.title('Top 10 Most Reviewed Products')\n",
        "plt.xlabel('Number of Reviews')\n",
        "plt.savefig('top_products.png')\n",
        "plt.close()\n",
        "\n",
        "plt.figure(figsize=(12, 6))\n",
        "sns.boxplot(x='reviews.rating', y='brand', data=data.sort_values('brand', ascending=False))\n",
        "plt.title('Distribution of Ratings by Brand')\n",
        "plt.savefig('brand_ratings.png')\n",
        "plt.close()\n"
      ],
      "metadata": {
        "colab": {
          "base_uri": "https://localhost:8080/"
        },
        "id": "chWWkgVAa7Yh",
        "outputId": "28c8719b-7602-425f-d8f2-57fd532b18b1"
      },
      "execution_count": 19,
      "outputs": [
        {
          "output_type": "stream",
          "name": "stderr",
          "text": [
            "<ipython-input-19-ff621afea063>:1: DtypeWarning: Columns (1,10) have mixed types. Specify dtype option on import or set low_memory=False.\n",
            "  data = pd.read_csv('1429_1.csv')\n",
            ") missing from current font.\n",
            "  plt.savefig('top_products.png')\n"
          ]
        }
      ]
    },
    {
      "cell_type": "code",
      "source": [
        "train_data, test_data = train_test_split(data, test_size=0.2, random_state=42)\n",
        "\n",
        "recommender = ElectronicsRecommender(train_data)\n",
        "recommender.preprocess_data()\n",
        "recommender.compute_user_similarity()\n"
      ],
      "metadata": {
        "id": "vfI8vwwqa_xG"
      },
      "execution_count": 20,
      "outputs": []
    },
    {
      "cell_type": "code",
      "source": [
        "precisions = []\n",
        "recalls = []\n",
        "k_values = range(1, 11)\n",
        "\n",
        "for k in k_values:\n",
        "    precision, recall = recommender.evaluate(test_data, k=k)\n",
        "    precisions.append(precision)\n",
        "    recalls.append(recall)\n",
        "\n",
        "plt.figure(figsize=(10, 6))\n",
        "plt.plot(k_values, precisions, marker='o', label='Precision')\n",
        "plt.plot(k_values, recalls, marker='o', label='Recall')\n",
        "plt.title('Precision and Recall at K')\n",
        "plt.xlabel('K')\n",
        "plt.ylabel('Score')\n",
        "plt.legend()\n",
        "plt.savefig('precision_recall_at_k.png')\n",
        "plt.close()"
      ],
      "metadata": {
        "id": "4Hv6S5RdbJYV"
      },
      "execution_count": 21,
      "outputs": []
    },
    {
      "cell_type": "code",
      "source": [
        "user = \"Adapter\"  # Replace with an actual username from your dataset\n",
        "recommendations = recommender.recommend_products(user)\n",
        "print(f\"Recommendations for {user}:\")\n",
        "for i, product in enumerate(recommendations, 1):\n",
        "    print(f\"{i}. {product}\")\n",
        "\n",
        "# User similarity heatmap\n",
        "plt.figure(figsize=(12, 10))\n",
        "sns.heatmap(recommender.user_similarity_matrix[:50, :50], cmap='YlOrRd')\n",
        "plt.title('User Similarity Heatmap (Top 50 Users)')\n",
        "plt.savefig('user_similarity_heatmap.png')\n",
        "plt.close()\n",
        "\n",
        "print(\"Analysis complete. Check the generated PNG files for visualizations.\")"
      ],
      "metadata": {
        "colab": {
          "base_uri": "https://localhost:8080/"
        },
        "id": "tXjrXDALcWWk",
        "outputId": "c54b2753-dbdd-455e-ffe8-202e95de01c0"
      },
      "execution_count": 22,
      "outputs": [
        {
          "output_type": "stream",
          "name": "stdout",
          "text": [
            "Recommendations for Adapter:\n",
            "Analysis complete. Check the generated PNG files for visualizations.\n"
          ]
        }
      ]
    },
    {
      "cell_type": "code",
      "source": [],
      "metadata": {
        "id": "UXdhsLH8civ2"
      },
      "execution_count": null,
      "outputs": []
    }
  ]
}